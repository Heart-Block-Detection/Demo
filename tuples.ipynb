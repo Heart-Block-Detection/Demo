{
  "nbformat": 4,
  "nbformat_minor": 0,
  "metadata": {
    "colab": {
      "provenance": [],
      "authorship_tag": "ABX9TyPED3+MUnWe7zobdN+Wq86U",
      "include_colab_link": true
    },
    "kernelspec": {
      "name": "python3",
      "display_name": "Python 3"
    },
    "language_info": {
      "name": "python"
    }
  },
  "cells": [
    {
      "cell_type": "markdown",
      "metadata": {
        "id": "view-in-github",
        "colab_type": "text"
      },
      "source": [
        "<a href=\"https://colab.research.google.com/github/Heart-Block-Detection/Demo/blob/Demo/tuples.ipynb\" target=\"_parent\"><img src=\"https://colab.research.google.com/assets/colab-badge.svg\" alt=\"Open In Colab\"/></a>"
      ]
    },
    {
      "cell_type": "code",
      "execution_count": null,
      "metadata": {
        "colab": {
          "base_uri": "https://localhost:8080/"
        },
        "id": "fASSFfUmVK3T",
        "outputId": "4874abd8-40c5-41d6-c3b7-69748934115f"
      },
      "outputs": [
        {
          "output_type": "stream",
          "name": "stdout",
          "text": [
            "{'Nizam', 'Faisal', 'Raju', 'Emon'}\n",
            "(10, 20, 30, 40)\n"
          ]
        }
      ],
      "source": [
        "mytuple = {\"Emon\", \"Raju\", \"Faisal\", \"Nizam\"}\n",
        "print(mytuple)\n",
        "\n",
        "mytuple2 = (10, 20, 30, 40)\n",
        "print(mytuple2)"
      ]
    }
  ]
}